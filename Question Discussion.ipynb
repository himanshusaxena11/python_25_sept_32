{
 "cells": [
  {
   "cell_type": "code",
   "execution_count": 1,
   "id": "4b877ddc",
   "metadata": {},
   "outputs": [
    {
     "name": "stdout",
     "output_type": "stream",
     "text": [
      "prime nos from 10 to 60 are\n",
      "11\n",
      "13\n",
      "17\n",
      "19\n",
      "23\n",
      "29\n",
      "31\n",
      "37\n",
      "41\n",
      "43\n",
      "47\n",
      "53\n",
      "59\n"
     ]
    }
   ],
   "source": [
    "#wap to print all prime nos from 10-60\n",
    "lower =10\n",
    "upper =60\n",
    "print('prime nos from',lower ,'to',upper ,'are')\n",
    "for num in range(lower, upper+1):\n",
    "    if num>1:\n",
    "        for i in range(2,num):\n",
    "            if num%i==0:\n",
    "                break\n",
    "        else:\n",
    "            print(num)     "
   ]
  },
  {
   "cell_type": "code",
   "execution_count": 2,
   "id": "981935b8",
   "metadata": {},
   "outputs": [
    {
     "name": "stdout",
     "output_type": "stream",
     "text": [
      "num is prime 19\n"
     ]
    }
   ],
   "source": [
    "#wap to find if the no is prime or not\n",
    "num=19\n",
    "if num>1:\n",
    "    for i in range(2,num):\n",
    "        if num%i==0:\n",
    "            print('num is not prime',num)\n",
    "            break\n",
    "    else:\n",
    "        print('num is prime',num)\n",
    "else:\n",
    "    print('invalid input',num)"
   ]
  },
  {
   "cell_type": "code",
   "execution_count": 3,
   "id": "628f689b",
   "metadata": {},
   "outputs": [
    {
     "name": "stdout",
     "output_type": "stream",
     "text": [
      "5050\n"
     ]
    }
   ],
   "source": [
    "### wap to print sum of nos starting from 1 to 100\n",
    "y=0\n",
    "for i in range(1,101):\n",
    "    y=i+y\n",
    "print(y)"
   ]
  },
  {
   "cell_type": "code",
   "execution_count": 4,
   "id": "bd1d999b",
   "metadata": {},
   "outputs": [
    {
     "name": "stdout",
     "output_type": "stream",
     "text": [
      "2\n",
      "6\n",
      "4\n"
     ]
    }
   ],
   "source": [
    "#x=[1,3,2], compute x*2?\n",
    "x=[1,3,2]\n",
    "for i in x:\n",
    "    print(i*2)"
   ]
  },
  {
   "cell_type": "code",
   "execution_count": 5,
   "id": "acd307aa",
   "metadata": {},
   "outputs": [
    {
     "name": "stdout",
     "output_type": "stream",
     "text": [
      "avg 6.0\n"
     ]
    }
   ],
   "source": [
    "#wap to find avg of no in list\n",
    "a=[6,8,3,7,9,5,4]\n",
    "b=0\n",
    "for i in a:\n",
    "    b=b+i\n",
    "    avg=b/7\n",
    "print('avg',avg)"
   ]
  },
  {
   "cell_type": "code",
   "execution_count": 6,
   "id": "74679e55",
   "metadata": {},
   "outputs": [
    {
     "name": "stdout",
     "output_type": "stream",
     "text": [
      "enter value-6\n",
      "neg -6\n"
     ]
    }
   ],
   "source": [
    "#wap to check if a no is +ve ,-ve or 0\n",
    "a=int(input('enter value'))\n",
    "if a>0:\n",
    "    print('pos',a)\n",
    "elif a<0:\n",
    "    print('neg',a)\n",
    "else:\n",
    "    print('zero',a)"
   ]
  },
  {
   "cell_type": "code",
   "execution_count": 7,
   "id": "5474f736",
   "metadata": {},
   "outputs": [
    {
     "name": "stdout",
     "output_type": "stream",
     "text": [
      "no is divisible by 5 and 11 both\n"
     ]
    }
   ],
   "source": [
    "#wap to check if a no is divisible by 5 and 11 or not\n",
    "x=110\n",
    "if x%5==0 and x%11==0:\n",
    "    print('no is divisible by 5 and 11 both')\n",
    "elif x%5!=0 and x%11!=0:\n",
    "    print('not divisible')"
   ]
  },
  {
   "cell_type": "code",
   "execution_count": 8,
   "id": "04eadda3",
   "metadata": {},
   "outputs": [
    {
     "name": "stdout",
     "output_type": "stream",
     "text": [
      "no profit no loss\n"
     ]
    }
   ],
   "source": [
    "#wap to calculate profit and loss\n",
    "cp=112\n",
    "sp=112\n",
    "profit =sp-cp\n",
    "loss=cp-sp\n",
    "if sp>cp:\n",
    "    print('profit',profit)\n",
    "elif sp<cp:\n",
    "    print('loss',loss)\n",
    "elif sp==cp:\n",
    "    print('no profit no loss')"
   ]
  },
  {
   "cell_type": "code",
   "execution_count": 9,
   "id": "601f9fdf",
   "metadata": {},
   "outputs": [
    {
     "data": {
      "text/plain": [
       "'nohtyp olleh'"
      ]
     },
     "execution_count": 9,
     "metadata": {},
     "output_type": "execute_result"
    }
   ],
   "source": [
    "#wap to reverse a string using indexing\n",
    "x='hello python'\n",
    "x[::-1]"
   ]
  },
  {
   "cell_type": "code",
   "execution_count": 10,
   "id": "23695668",
   "metadata": {},
   "outputs": [
    {
     "name": "stdout",
     "output_type": "stream",
     "text": [
      "basic salary30000\n",
      "hra 9000.0\n",
      "da 28500.0\n",
      "gross_sal 67500.0\n"
     ]
    }
   ],
   "source": [
    "#wap to input the basic salary of emp and calculate its gross salary\n",
    "# basic salary<=10000;HRA =20%, DA=80%\n",
    "# basic salary<=20000;HRA =25%, DA=90%\n",
    "# basic salary>20000;HRA =30%, DA=95%\n",
    "x= int(input('basic salary'))\n",
    "if x>20000:\n",
    "    hra=x*30/100\n",
    "    da=x*95/100\n",
    "    gross_sal=x+hra +da\n",
    "    print('hra',hra)\n",
    "    print('da',da)\n",
    "    print('gross_sal',gross_sal)\n",
    "elif x<=20000:\n",
    "    hra=x*25/100\n",
    "    da=x*90/100\n",
    "    gross_sal=x+hra +da\n",
    "    print('hra',hra)\n",
    "    print('da',da)\n",
    "    print('gross_sal',gross_sal)\n",
    "elif x<=10000:\n",
    "    hra=x*20/100\n",
    "    da=x*80/100\n",
    "    gross_sal=x+hra +da\n",
    "    print('hra',hra)\n",
    "    print('da',da)\n",
    "    print('gross_sal',gross_sal)\n",
    "    "
   ]
  },
  {
   "cell_type": "code",
   "execution_count": 11,
   "id": "aa2f6e3a",
   "metadata": {},
   "outputs": [
    {
     "name": "stdout",
     "output_type": "stream",
     "text": [
      "enter electricity unit consumed123\n",
      "charge 92.25\n",
      "addtn_surchg 18.45\n",
      "total_bill 110.7\n"
     ]
    }
   ],
   "source": [
    "#input electricity unit charge and calculate total bill acc to given condition\n",
    "# for 1st 50 units ,Rs 0.50/unit\n",
    "# for next 100 units ,Rs 0.75/unit\n",
    "# for next 100 units ,Rs 1.20/unit\n",
    "# for unit above 250 units ,Rs 1.50/unit\n",
    "# an addtional surcharge of 20% is added to bill\n",
    "x=int(input('enter electricity unit consumed'))\n",
    "if x<=50:\n",
    "    charge=x*0.50\n",
    "    addtn_surchg=charge*20/100\n",
    "    total_bill =charge+addtn_surchg123\n",
    "    print('charge',charge)\n",
    "    print('addtn_surchg',addtn_surchg)\n",
    "    print('total_bill',total_bill)\n",
    "elif x<=150:\n",
    "    charge=x*0.75\n",
    "    addtn_surchg=charge*20/100\n",
    "    total_bill =charge+addtn_surchg\n",
    "    print('charge',charge)\n",
    "    print('addtn_surchg',addtn_surchg)\n",
    "    print('total_bill',total_bill)\n",
    "elif x<=250:\n",
    "    charge=x*1.20\n",
    "    addtn_surchg=charge*20/100\n",
    "    total_bill =charge+addtn_surchg\n",
    "    print('charge',charge)\n",
    "    print('addtn_surchg',addtn_surchg)\n",
    "    print('total_bill',total_bill)\n",
    "elif x>250:\n",
    "    charge=x*1.50\n",
    "    addtn_surchg=charge*20/100\n",
    "    total_bill =charge+addtn_surchg\n",
    "    print('charge',charge)\n",
    "    print('addtn_surchg',addtn_surchg)\n",
    "    print('total_bill',total_bill)"
   ]
  },
  {
   "cell_type": "code",
   "execution_count": 12,
   "id": "9d301b98",
   "metadata": {},
   "outputs": [
    {
     "name": "stdout",
     "output_type": "stream",
     "text": [
      "before swap>>> 5 8\n",
      "after swap>>> 8 5\n"
     ]
    }
   ],
   "source": [
    "#wap to swap 2nos without using 3rd variable\n",
    "a=5\n",
    "b=8\n",
    "print('before swap>>>',a,b)\n",
    "a,b=b,a\n",
    "print('after swap>>>',a,b)"
   ]
  },
  {
   "cell_type": "code",
   "execution_count": 13,
   "id": "9f7782e0",
   "metadata": {},
   "outputs": [
    {
     "name": "stdout",
     "output_type": "stream",
     "text": [
      "leap yr\n"
     ]
    }
   ],
   "source": [
    "#wap to check the year is leap year or not\n",
    "x=1996\n",
    "if x%4==0:\n",
    "    print('leap yr')\n",
    "else:\n",
    "    print('no ly')"
   ]
  },
  {
   "cell_type": "code",
   "execution_count": 14,
   "id": "8624e092",
   "metadata": {},
   "outputs": [],
   "source": [
    "#wap to find sum of digits of a no\n",
    "a=354\n"
   ]
  },
  {
   "cell_type": "code",
   "execution_count": 18,
   "id": "8c7020b9",
   "metadata": {},
   "outputs": [
    {
     "name": "stdout",
     "output_type": "stream",
     "text": [
      "432\n"
     ]
    }
   ],
   "source": [
    "#wap to reverse a string in python\n",
    "a='234'\n",
    "b=''\n",
    "for i in a:\n",
    "    b=i+b\n",
    "print(b)"
   ]
  },
  {
   "cell_type": "code",
   "execution_count": 6,
   "id": "97c60370",
   "metadata": {},
   "outputs": [
    {
     "name": "stdout",
     "output_type": "stream",
     "text": [
      "rev_num is 9845\n"
     ]
    }
   ],
   "source": [
    "#wap to reverse a no \n",
    "a=5489\n",
    "rev_num=0\n",
    "while a!=0:\n",
    "    digit=a%10\n",
    "    rev_num=rev_num*10+digit\n",
    "    a=a//10\n",
    "print('rev_num is',rev_num)"
   ]
  },
  {
   "cell_type": "code",
   "execution_count": 8,
   "id": "ad9997f9",
   "metadata": {},
   "outputs": [
    {
     "name": "stdout",
     "output_type": "stream",
     "text": [
      "fizz\n"
     ]
    }
   ],
   "source": [
    "#wap to print fizz and buzz, if a no is divisible by 3 print fizz, If a no is divisible by 5 print buzz and if divisible by both\n",
    "#print fizzbuzz.If not divisible by any one print -1 or divisible by 2 print even or divisible by 3 but not by 2 and 5 then\n",
    "#print odd.\n",
    "a=57\n",
    "if a%3==0:\n",
    "    print('fizz')\n",
    "elif a%5==0:\n",
    "    print('buzz')\n",
    "elif a%3==0 and a%5==0:\n",
    "    print('fizzbuzz')\n",
    "elif a%2==0:\n",
    "    print('even')\n",
    "elif a%3!=0 and a%5==0:\n",
    "    print('-1')\n",
    "elif a%3==0 and a%5!=0:\n",
    "    print('-1')\n",
    "elif a%3==0 and a%2!=0 and a%5!=0:\n",
    "    print('odd')"
   ]
  },
  {
   "cell_type": "code",
   "execution_count": null,
   "id": "64eff462",
   "metadata": {},
   "outputs": [],
   "source": []
  }
 ],
 "metadata": {
  "kernelspec": {
   "display_name": "Python 3 (ipykernel)",
   "language": "python",
   "name": "python3"
  },
  "language_info": {
   "codemirror_mode": {
    "name": "ipython",
    "version": 3
   },
   "file_extension": ".py",
   "mimetype": "text/x-python",
   "name": "python",
   "nbconvert_exporter": "python",
   "pygments_lexer": "ipython3",
   "version": "3.9.12"
  }
 },
 "nbformat": 4,
 "nbformat_minor": 5
}
